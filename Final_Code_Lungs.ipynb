{
 "cells": [
  {
   "cell_type": "code",
   "execution_count": 47,
   "id": "09dac2a0",
   "metadata": {},
   "outputs": [],
   "source": [
    "import pandas as pd\n",
    "import numpy as np\n",
    "import seaborn as sns\n",
    "from sklearn.ensemble import RandomForestClassifier\n",
    "from sklearn.model_selection import StratifiedKFold\n",
    "from sklearn.preprocessing import LabelEncoder\n",
    "from sklearn.metrics import classification_report, confusion_matrix, accuracy_score \n",
    "from sklearn.svm import SVC\n",
    "from sklearn.linear_model import LinearRegression\n",
    "from sklearn.naive_bayes import ComplementNB\n",
    "import matplotlib.pyplot as plt"
   ]
  },
  {
   "cell_type": "code",
   "execution_count": 2,
   "id": "81b81c66",
   "metadata": {},
   "outputs": [
    {
     "data": {
      "text/html": [
       "<div>\n",
       "<style scoped>\n",
       "    .dataframe tbody tr th:only-of-type {\n",
       "        vertical-align: middle;\n",
       "    }\n",
       "\n",
       "    .dataframe tbody tr th {\n",
       "        vertical-align: top;\n",
       "    }\n",
       "\n",
       "    .dataframe thead th {\n",
       "        text-align: right;\n",
       "    }\n",
       "</style>\n",
       "<table border=\"1\" class=\"dataframe\">\n",
       "  <thead>\n",
       "    <tr style=\"text-align: right;\">\n",
       "      <th></th>\n",
       "      <th>Age</th>\n",
       "      <th>Gender</th>\n",
       "      <th>Location</th>\n",
       "      <th>Sound type</th>\n",
       "      <th>Diagnosis</th>\n",
       "      <th>Unnamed: 5</th>\n",
       "      <th>Unnamed: 6</th>\n",
       "      <th>Unnamed: 7</th>\n",
       "      <th>Unnamed: 8</th>\n",
       "      <th>Posterior: P Lower: L Left: L Right R, UPPER: U, ANTERIOR: A, MIDDLE: M</th>\n",
       "      <th>Unnamed: 10</th>\n",
       "    </tr>\n",
       "  </thead>\n",
       "  <tbody>\n",
       "    <tr>\n",
       "      <th>0</th>\n",
       "      <td>70.0</td>\n",
       "      <td>M</td>\n",
       "      <td>P L L</td>\n",
       "      <td>I E W</td>\n",
       "      <td>Asthma</td>\n",
       "      <td>NaN</td>\n",
       "      <td>NaN</td>\n",
       "      <td>NaN</td>\n",
       "      <td>NaN</td>\n",
       "      <td>Insipratory: I, Experiatory: E, Wheezes: W, Cr...</td>\n",
       "      <td>NaN</td>\n",
       "    </tr>\n",
       "    <tr>\n",
       "      <th>1</th>\n",
       "      <td>52.0</td>\n",
       "      <td>F</td>\n",
       "      <td>P L L</td>\n",
       "      <td>E W</td>\n",
       "      <td>Asthma</td>\n",
       "      <td>NaN</td>\n",
       "      <td>NaN</td>\n",
       "      <td>NaN</td>\n",
       "      <td>NaN</td>\n",
       "      <td>Crep:crepitations</td>\n",
       "      <td>NaN</td>\n",
       "    </tr>\n",
       "    <tr>\n",
       "      <th>2</th>\n",
       "      <td>50.0</td>\n",
       "      <td>F</td>\n",
       "      <td>P L L</td>\n",
       "      <td>I E W</td>\n",
       "      <td>Asthma</td>\n",
       "      <td>NaN</td>\n",
       "      <td>NaN</td>\n",
       "      <td>NaN</td>\n",
       "      <td>NaN</td>\n",
       "      <td>NaN</td>\n",
       "      <td>NaN</td>\n",
       "    </tr>\n",
       "    <tr>\n",
       "      <th>3</th>\n",
       "      <td>72.0</td>\n",
       "      <td>F</td>\n",
       "      <td>P R L</td>\n",
       "      <td>I C</td>\n",
       "      <td>Heart Failure + Lung Fibrosis</td>\n",
       "      <td>NaN</td>\n",
       "      <td>NaN</td>\n",
       "      <td>NaN</td>\n",
       "      <td>NaN</td>\n",
       "      <td>NaN</td>\n",
       "      <td>NaN</td>\n",
       "    </tr>\n",
       "    <tr>\n",
       "      <th>4</th>\n",
       "      <td>71.0</td>\n",
       "      <td>M</td>\n",
       "      <td>P R L</td>\n",
       "      <td>I C E W</td>\n",
       "      <td>Heart Failure + COPD</td>\n",
       "      <td>NaN</td>\n",
       "      <td>NaN</td>\n",
       "      <td>NaN</td>\n",
       "      <td>NaN</td>\n",
       "      <td>NaN</td>\n",
       "      <td>NaN</td>\n",
       "    </tr>\n",
       "  </tbody>\n",
       "</table>\n",
       "</div>"
      ],
      "text/plain": [
       "    Age Gender Location Sound type                       Diagnosis  \\\n",
       "0  70.0      M    P L L      I E W                          Asthma   \n",
       "1  52.0      F   P L L         E W                          Asthma   \n",
       "2  50.0      F   P L L       I E W                          Asthma   \n",
       "3  72.0      F   P R L         I C  Heart Failure + Lung Fibrosis    \n",
       "4  71.0      M   P R L     I C E W            Heart Failure + COPD   \n",
       "\n",
       "   Unnamed: 5  Unnamed: 6  Unnamed: 7  Unnamed: 8  \\\n",
       "0         NaN         NaN         NaN         NaN   \n",
       "1         NaN         NaN         NaN         NaN   \n",
       "2         NaN         NaN         NaN         NaN   \n",
       "3         NaN         NaN         NaN         NaN   \n",
       "4         NaN         NaN         NaN         NaN   \n",
       "\n",
       "  Posterior: P Lower: L Left: L Right R, UPPER: U, ANTERIOR: A, MIDDLE: M  \\\n",
       "0  Insipratory: I, Experiatory: E, Wheezes: W, Cr...                        \n",
       "1                                  Crep:crepitations                        \n",
       "2                                                NaN                        \n",
       "3                                                NaN                        \n",
       "4                                                NaN                        \n",
       "\n",
       "   Unnamed: 10  \n",
       "0          NaN  \n",
       "1          NaN  \n",
       "2          NaN  \n",
       "3          NaN  \n",
       "4          NaN  "
      ]
     },
     "execution_count": 2,
     "metadata": {},
     "output_type": "execute_result"
    }
   ],
   "source": [
    "df = pd.read_csv('Lungs_Data.csv')\n",
    "df.head()"
   ]
  },
  {
   "cell_type": "markdown",
   "id": "9fd2e07e",
   "metadata": {},
   "source": [
    "# Data Cleaning"
   ]
  },
  {
   "cell_type": "code",
   "execution_count": 3,
   "id": "58a6b0fa",
   "metadata": {
    "scrolled": false
   },
   "outputs": [
    {
     "data": {
      "text/plain": [
       "Age                                                                         42\n",
       "Gender                                                                      42\n",
       "Location                                                                    42\n",
       "Sound type                                                                  42\n",
       "Diagnosis                                                                   42\n",
       "Unnamed: 5                                                                 152\n",
       "Unnamed: 6                                                                 152\n",
       "Unnamed: 7                                                                 154\n",
       "Unnamed: 8                                                                 154\n",
       "Posterior: P Lower: L Left: L Right R, UPPER: U, ANTERIOR: A, MIDDLE: M    152\n",
       "Unnamed: 10                                                                154\n",
       "dtype: int64"
      ]
     },
     "execution_count": 3,
     "metadata": {},
     "output_type": "execute_result"
    }
   ],
   "source": [
    "df.isnull().sum()"
   ]
  },
  {
   "cell_type": "code",
   "execution_count": 4,
   "id": "d92ec563",
   "metadata": {},
   "outputs": [],
   "source": [
    "#Drop NaN values\n",
    "df.drop(['Unnamed: 5', 'Unnamed: 6', 'Unnamed: 7','Unnamed: 8', 'Unnamed: 10', 'Posterior: P Lower: L Left: L Right R, UPPER: U, ANTERIOR: A, MIDDLE: M'], axis = 1, inplace = True)\n",
    "df.dropna(axis = 0, how = 'all', inplace = True )"
   ]
  },
  {
   "cell_type": "code",
   "execution_count": 5,
   "id": "af7f9b60",
   "metadata": {},
   "outputs": [
    {
     "data": {
      "text/html": [
       "<div>\n",
       "<style scoped>\n",
       "    .dataframe tbody tr th:only-of-type {\n",
       "        vertical-align: middle;\n",
       "    }\n",
       "\n",
       "    .dataframe tbody tr th {\n",
       "        vertical-align: top;\n",
       "    }\n",
       "\n",
       "    .dataframe thead th {\n",
       "        text-align: right;\n",
       "    }\n",
       "</style>\n",
       "<table border=\"1\" class=\"dataframe\">\n",
       "  <thead>\n",
       "    <tr style=\"text-align: right;\">\n",
       "      <th></th>\n",
       "      <th>Age</th>\n",
       "      <th>Gender</th>\n",
       "      <th>Location</th>\n",
       "      <th>Sound type</th>\n",
       "      <th>Diagnosis</th>\n",
       "    </tr>\n",
       "  </thead>\n",
       "  <tbody>\n",
       "    <tr>\n",
       "      <th>0</th>\n",
       "      <td>70.0</td>\n",
       "      <td>M</td>\n",
       "      <td>P L L</td>\n",
       "      <td>I E W</td>\n",
       "      <td>Asthma</td>\n",
       "    </tr>\n",
       "    <tr>\n",
       "      <th>1</th>\n",
       "      <td>52.0</td>\n",
       "      <td>F</td>\n",
       "      <td>P L L</td>\n",
       "      <td>E W</td>\n",
       "      <td>Asthma</td>\n",
       "    </tr>\n",
       "    <tr>\n",
       "      <th>2</th>\n",
       "      <td>50.0</td>\n",
       "      <td>F</td>\n",
       "      <td>P L L</td>\n",
       "      <td>I E W</td>\n",
       "      <td>Asthma</td>\n",
       "    </tr>\n",
       "    <tr>\n",
       "      <th>3</th>\n",
       "      <td>72.0</td>\n",
       "      <td>F</td>\n",
       "      <td>P R L</td>\n",
       "      <td>I C</td>\n",
       "      <td>Heart Failure + Lung Fibrosis</td>\n",
       "    </tr>\n",
       "    <tr>\n",
       "      <th>4</th>\n",
       "      <td>71.0</td>\n",
       "      <td>M</td>\n",
       "      <td>P R L</td>\n",
       "      <td>I C E W</td>\n",
       "      <td>Heart Failure + COPD</td>\n",
       "    </tr>\n",
       "    <tr>\n",
       "      <th>5</th>\n",
       "      <td>81.0</td>\n",
       "      <td>M</td>\n",
       "      <td>P R L</td>\n",
       "      <td>I C B</td>\n",
       "      <td>Plueral Effusion</td>\n",
       "    </tr>\n",
       "    <tr>\n",
       "      <th>6</th>\n",
       "      <td>65.0</td>\n",
       "      <td>M</td>\n",
       "      <td>P R L</td>\n",
       "      <td>I C E W</td>\n",
       "      <td>Heart Failure + COPD</td>\n",
       "    </tr>\n",
       "    <tr>\n",
       "      <th>7</th>\n",
       "      <td>70.0</td>\n",
       "      <td>M</td>\n",
       "      <td>P L L</td>\n",
       "      <td>I C B</td>\n",
       "      <td>Plueral Effusion</td>\n",
       "    </tr>\n",
       "    <tr>\n",
       "      <th>8</th>\n",
       "      <td>59.0</td>\n",
       "      <td>M</td>\n",
       "      <td>P R L</td>\n",
       "      <td>E W</td>\n",
       "      <td>Asthma</td>\n",
       "    </tr>\n",
       "    <tr>\n",
       "      <th>9</th>\n",
       "      <td>59.0</td>\n",
       "      <td>M</td>\n",
       "      <td>P R U</td>\n",
       "      <td>E W</td>\n",
       "      <td>Asthma</td>\n",
       "    </tr>\n",
       "  </tbody>\n",
       "</table>\n",
       "</div>"
      ],
      "text/plain": [
       "    Age Gender Location Sound type                       Diagnosis\n",
       "0  70.0      M    P L L      I E W                          Asthma\n",
       "1  52.0      F   P L L         E W                          Asthma\n",
       "2  50.0      F   P L L       I E W                          Asthma\n",
       "3  72.0      F   P R L         I C  Heart Failure + Lung Fibrosis \n",
       "4  71.0      M   P R L     I C E W            Heart Failure + COPD\n",
       "5  81.0      M   P R L       I C B                Plueral Effusion\n",
       "6  65.0      M   P R L     I C E W            Heart Failure + COPD\n",
       "7  70.0      M    P L L      I C B                Plueral Effusion\n",
       "8  59.0      M   P R L         E W                          Asthma\n",
       "9  59.0      M    P R U        E W                          Asthma"
      ]
     },
     "execution_count": 5,
     "metadata": {},
     "output_type": "execute_result"
    }
   ],
   "source": [
    "df.head(10)"
   ]
  },
  {
   "cell_type": "code",
   "execution_count": 6,
   "id": "f20def7a",
   "metadata": {},
   "outputs": [],
   "source": [
    "#Remove extra, or trailing and leadning white spaces\n",
    "df['Location'], df['Sound type'], df['Diagnosis'] = df['Location'].str.strip(), df['Sound type'].str.strip(), df['Diagnosis'].str.strip()"
   ]
  },
  {
   "cell_type": "code",
   "execution_count": 7,
   "id": "81fc6958",
   "metadata": {},
   "outputs": [
    {
     "data": {
      "text/plain": [
       "array(['Asthma', 'Heart Failure And Lung Fibrosis',\n",
       "       'Heart Failure And Copd', 'Plueral Effusion', 'Heart Failure',\n",
       "       'Copd', 'Pneumonia', 'Asthma And Lung Fibrosis', 'Bron',\n",
       "       'Lung Fibrosis', 'N'], dtype=object)"
      ]
     },
     "execution_count": 7,
     "metadata": {},
     "output_type": "execute_result"
    }
   ],
   "source": [
    "#Replace + with and sentence case\n",
    "df['Diagnosis'] = df['Diagnosis'].str.replace('+', 'and', regex = True).str.title()\n",
    "df['Diagnosis'].unique()"
   ]
  },
  {
   "cell_type": "code",
   "execution_count": 8,
   "id": "6ae943b9",
   "metadata": {},
   "outputs": [
    {
     "data": {
      "text/plain": [
       "array(['P L L', 'P R L', 'P R U', 'A R M', 'P R M', 'P L U', 'P L M',\n",
       "       'A R L', 'A L U', 'A R U'], dtype=object)"
      ]
     },
     "execution_count": 8,
     "metadata": {},
     "output_type": "execute_result"
    }
   ],
   "source": [
    "df['Location'].unique()"
   ]
  },
  {
   "cell_type": "code",
   "execution_count": 9,
   "id": "fb04f072",
   "metadata": {},
   "outputs": [
    {
     "data": {
      "text/plain": [
       "array(['I E W', 'E W', 'I C', 'I C E W', 'I C B', 'C', 'Crep', 'N',\n",
       "       'Bronchial'], dtype=object)"
      ]
     },
     "execution_count": 9,
     "metadata": {},
     "output_type": "execute_result"
    }
   ],
   "source": [
    "df['Sound type'].unique()"
   ]
  },
  {
   "cell_type": "markdown",
   "id": "0a567141",
   "metadata": {},
   "source": [
    "# Feature Extraction"
   ]
  },
  {
   "cell_type": "code",
   "execution_count": 10,
   "id": "71fdde54",
   "metadata": {},
   "outputs": [
    {
     "data": {
      "text/plain": [
       "array([4, 7, 9, 2, 8, 6, 5, 1, 0, 3])"
      ]
     },
     "execution_count": 10,
     "metadata": {},
     "output_type": "execute_result"
    }
   ],
   "source": [
    "le = LabelEncoder()\n",
    "df['Location'] = le.fit_transform(df['Location'])\n",
    "df['Location'].unique()\n",
    "#4 - PLL\n",
    "#7 - PRL\n",
    "#9 - PRU\n",
    "#2 - ARM\n",
    "#8 - PRM\n",
    "#6 - PLU\n",
    "#5 - PLM\n",
    "#1 - ARL\n",
    "#0 - ALU\n",
    "#3 - ARU"
   ]
  },
  {
   "cell_type": "code",
   "execution_count": 11,
   "id": "fa4945e7",
   "metadata": {},
   "outputs": [
    {
     "data": {
      "text/plain": [
       "array([7, 3, 4, 6, 5, 1, 2, 8, 0])"
      ]
     },
     "execution_count": 11,
     "metadata": {},
     "output_type": "execute_result"
    }
   ],
   "source": [
    "df['Sound type'] = le.fit_transform(df['Sound type'])\n",
    "df['Sound type'].unique()\n",
    "#7 - IEW\n",
    "#3 - EW\n",
    "#4 - IC\n",
    "#6 - ICEW\n",
    "#5 - ICB\n",
    "#1 - C\n",
    "#2 - CREP\n",
    "#8 - N\n",
    "#0 - Bronchial"
   ]
  },
  {
   "cell_type": "code",
   "execution_count": 12,
   "id": "34a04c3c",
   "metadata": {},
   "outputs": [
    {
     "data": {
      "text/plain": [
       "array([[70.,  1.,  4.,  7.],\n",
       "       [52.,  0.,  4.,  3.],\n",
       "       [50.,  0.,  4.,  7.],\n",
       "       [72.,  0.,  7.,  4.],\n",
       "       [71.,  1.,  7.,  6.],\n",
       "       [81.,  1.,  7.,  5.],\n",
       "       [65.,  1.,  7.,  6.],\n",
       "       [70.,  1.,  4.,  5.],\n",
       "       [59.,  1.,  7.,  3.],\n",
       "       [59.,  1.,  9.,  3.],\n",
       "       [53.,  1.,  4.,  1.],\n",
       "       [50.,  0.,  4.,  3.],\n",
       "       [55.,  1.,  4.,  1.],\n",
       "       [54.,  1.,  2.,  1.],\n",
       "       [49.,  0.,  9.,  3.],\n",
       "       [56.,  1.,  9.,  1.],\n",
       "       [57.,  1.,  2.,  3.],\n",
       "       [57.,  1.,  9.,  1.],\n",
       "       [70.,  0.,  9.,  1.],\n",
       "       [90.,  1.,  2.,  1.],\n",
       "       [20.,  1.,  7.,  2.],\n",
       "       [24.,  1.,  9.,  2.],\n",
       "       [50.,  1.,  7.,  2.],\n",
       "       [76.,  0.,  7.,  2.],\n",
       "       [76.,  1.,  4.,  3.],\n",
       "       [90.,  0.,  4.,  2.],\n",
       "       [53.,  0.,  8.,  3.],\n",
       "       [68.,  0.,  6.,  2.],\n",
       "       [57.,  1.,  4.,  2.],\n",
       "       [18.,  0.,  8.,  8.],\n",
       "       [27.,  0.,  5.,  8.],\n",
       "       [30.,  1.,  1.,  8.],\n",
       "       [43.,  0.,  8.,  3.],\n",
       "       [78.,  0.,  8.,  2.],\n",
       "       [38.,  1.,  1.,  3.],\n",
       "       [36.,  0.,  8.,  2.],\n",
       "       [70.,  0.,  1.,  2.],\n",
       "       [38.,  1.,  8.,  3.],\n",
       "       [67.,  1.,  7.,  2.],\n",
       "       [26.,  1.,  2.,  2.],\n",
       "       [51.,  1.,  8.,  2.],\n",
       "       [56.,  1.,  4.,  2.],\n",
       "       [15.,  1.,  5.,  3.],\n",
       "       [40.,  1.,  9.,  3.],\n",
       "       [30.,  1.,  7.,  2.],\n",
       "       [41.,  0.,  6.,  3.],\n",
       "       [60.,  1.,  5.,  3.],\n",
       "       [31.,  1.,  6.,  8.],\n",
       "       [21.,  1.,  8.,  8.],\n",
       "       [27.,  1.,  7.,  8.],\n",
       "       [30.,  1.,  5.,  8.],\n",
       "       [76.,  0.,  4.,  2.],\n",
       "       [72.,  0.,  8.,  3.],\n",
       "       [73.,  0.,  7.,  2.],\n",
       "       [72.,  0.,  9.,  3.],\n",
       "       [56.,  0.,  8.,  3.],\n",
       "       [42.,  1.,  7.,  3.],\n",
       "       [40.,  1.,  5.,  3.],\n",
       "       [83.,  0.,  7.,  2.],\n",
       "       [83.,  0.,  4.,  2.],\n",
       "       [53.,  1.,  7.,  3.],\n",
       "       [53.,  1.,  5.,  3.],\n",
       "       [58.,  0.,  7.,  3.],\n",
       "       [60.,  1.,  6.,  3.],\n",
       "       [60.,  0.,  7.,  3.],\n",
       "       [43.,  1.,  7.,  2.],\n",
       "       [24.,  0.,  7.,  2.],\n",
       "       [21.,  0.,  7.,  3.],\n",
       "       [64.,  1.,  7.,  0.],\n",
       "       [52.,  0.,  6.,  8.],\n",
       "       [36.,  1.,  9.,  8.],\n",
       "       [24.,  0.,  9.,  8.],\n",
       "       [32.,  1.,  4.,  8.],\n",
       "       [74.,  1.,  8.,  8.],\n",
       "       [73.,  0.,  6.,  8.],\n",
       "       [31.,  1.,  0.,  8.],\n",
       "       [40.,  1.,  1.,  3.],\n",
       "       [20.,  1.,  8.,  3.],\n",
       "       [46.,  1.,  3.,  3.],\n",
       "       [38.,  1.,  0.,  3.],\n",
       "       [33.,  1.,  6.,  8.],\n",
       "       [38.,  1.,  6.,  8.],\n",
       "       [18.,  0.,  3.,  8.],\n",
       "       [65.,  0.,  3.,  8.],\n",
       "       [33.,  1.,  3.,  8.],\n",
       "       [68.,  0.,  9.,  8.],\n",
       "       [72.,  1.,  8.,  8.],\n",
       "       [29.,  1.,  3.,  8.],\n",
       "       [70.,  1.,  5.,  8.],\n",
       "       [74.,  0.,  5.,  2.],\n",
       "       [43.,  0.,  9.,  3.],\n",
       "       [43.,  1.,  4.,  8.],\n",
       "       [75.,  1.,  8.,  8.],\n",
       "       [24.,  1.,  4.,  8.],\n",
       "       [18.,  1.,  5.,  8.],\n",
       "       [66.,  0.,  7.,  8.],\n",
       "       [24.,  1.,  9.,  3.],\n",
       "       [53.,  1.,  4.,  8.],\n",
       "       [50.,  1.,  8.,  8.],\n",
       "       [70.,  0.,  8.,  8.],\n",
       "       [12.,  0.,  5.,  3.],\n",
       "       [41.,  1.,  4.,  8.],\n",
       "       [81.,  0.,  9.,  8.],\n",
       "       [45.,  0.,  6.,  3.],\n",
       "       [44.,  1.,  3.,  2.],\n",
       "       [45.,  0.,  6.,  3.],\n",
       "       [59.,  0.,  6.,  3.],\n",
       "       [63.,  1.,  7.,  3.],\n",
       "       [26.,  1.,  5.,  8.],\n",
       "       [62.,  1.,  4.,  3.],\n",
       "       [51.,  1.,  7.,  3.],\n",
       "       [30.,  1.,  5.,  8.]])"
      ]
     },
     "execution_count": 12,
     "metadata": {},
     "output_type": "execute_result"
    }
   ],
   "source": [
    "df['Gender'] = le.fit_transform(df['Gender'])\n",
    "df['Gender'].unique()\n",
    "X = np.array(df.loc[:, 'Age': 'Sound type'])\n",
    "X"
   ]
  },
  {
   "cell_type": "code",
   "execution_count": 13,
   "id": "4432c4ac",
   "metadata": {},
   "outputs": [
    {
     "data": {
      "text/plain": [
       "array([ 0,  6,  5,  9,  4,  3, 10,  1,  2,  7,  8])"
      ]
     },
     "execution_count": 13,
     "metadata": {},
     "output_type": "execute_result"
    }
   ],
   "source": [
    "df['Diagnosis'] = le.fit_transform(df['Diagnosis'])\n",
    "df['Diagnosis'].unique()\n",
    "# 0 - Asthma\n",
    "# 6 - Heart Failure And LUng Fibrosis\n",
    "# 5 - Heart Failure and COPD\n",
    "# 9 - Plueral Effusion\n",
    "# 4 - Heart Failure\n",
    "# 3 - COPD\n",
    "# 10 - Pneumonia\n",
    "# 1 - Asthma And Lung Fibrosis\n",
    "# 2 - BRON\n",
    "# 7 - Lung Fibrosis\n",
    "# 8 - N(Normal)"
   ]
  },
  {
   "cell_type": "code",
   "execution_count": 14,
   "id": "15ad8a45",
   "metadata": {
    "scrolled": true
   },
   "outputs": [
    {
     "data": {
      "text/plain": [
       "array([ 0,  0,  0,  6,  5,  9,  5,  9,  0,  0,  4,  0,  4,  4,  0,  4,  3,\n",
       "       10,  4,  1,  2,  2,  7,  4,  3,  7,  0,  2,  4,  8,  8,  8,  0,  4,\n",
       "        0, 10, 10,  0,  4,  4, 10,  4,  0,  0,  4,  0,  0,  8,  8,  8,  8,\n",
       "        7,  0,  4,  0,  0,  3,  0,  4,  4,  3,  3,  3,  0,  0,  4,  4,  0,\n",
       "       10,  8,  8,  8,  8,  8,  8,  8,  0,  0,  0,  0,  8,  8,  8,  8,  8,\n",
       "        8,  8,  8,  8,  4,  0,  8,  8,  8,  8,  8,  0,  8,  8,  8,  0,  8,\n",
       "        8,  0,  7,  0,  0,  3,  8,  3,  3,  8])"
      ]
     },
     "execution_count": 14,
     "metadata": {},
     "output_type": "execute_result"
    }
   ],
   "source": [
    "y = np.array(df['Diagnosis'])\n",
    "y"
   ]
  },
  {
   "cell_type": "markdown",
   "id": "9a9de059",
   "metadata": {},
   "source": [
    "# Stratified KFold Cross Validation and Model Fitting"
   ]
  },
  {
   "cell_type": "code",
   "execution_count": 15,
   "id": "93768f77",
   "metadata": {},
   "outputs": [],
   "source": [
    "ac_comNB = []\n",
    "ac_svm = []\n",
    "ac_lr = []\n",
    "ac_rf = []\n",
    "\n",
    "def get_model_predict(model, X_train, X_test, y_train, y_test):\n",
    "    \n",
    "    model.fit(X_train, y_train)\n",
    "    prediction = model.predict(X_test)\n",
    "    ac = accuracy_score(y_test, prediction)\n",
    "    return ac\n",
    "\n",
    "def get_lr_score (model, X_train, X_test, y_train, y_test):\n",
    "    import sklearn.metrics as sm\n",
    "    model.fit(X_train, y_train)\n",
    "    prediction = model.predict(X_test)\n",
    "    return sm.r2_score(y_test, prediction)"
   ]
  },
  {
   "cell_type": "code",
   "execution_count": 16,
   "id": "dd21c0cc",
   "metadata": {},
   "outputs": [
    {
     "name": "stderr",
     "output_type": "stream",
     "text": [
      "C:\\Users\\rambo\\AppData\\Local\\Programs\\Python\\Python39\\lib\\site-packages\\sklearn\\model_selection\\_split.py:676: UserWarning: The least populated class in y has only 1 members, which is less than n_splits=5.\n",
      "  warnings.warn(\n"
     ]
    },
    {
     "name": "stdout",
     "output_type": "stream",
     "text": [
      "[0.5217391304347826, 0.5652173913043478, 0.45454545454545453, 0.45454545454545453, 0.5]\n",
      "[0.43478260869565216, 0.43478260869565216, 0.5, 0.36363636363636365, 0.3181818181818182]\n",
      "[0.0269630538207678, 0.355512552196412, 0.2702742165018287, 0.4048236222640468, 0.38618908869536805]\n",
      "[0.6521739130434783, 0.6956521739130435, 0.8181818181818182, 0.7727272727272727, 0.6818181818181818]\n"
     ]
    }
   ],
   "source": [
    "sKF = StratifiedKFold(n_splits = 5)\n",
    "sKF.get_n_splits(X, y)\n",
    "for train_index, test_index in sKF.split(X, y):\n",
    "    X_train, y_train = X[train_index], y[train_index]\n",
    "    X_test, y_test = X[test_index], y[test_index]\n",
    "    ac_comNB.append(get_model_predict(ComplementNB(), X_train, X_test, y_train, y_test))\n",
    "    ac_svm.append(get_model_predict(svm.SVC(), X_train, X_test, y_train, y_test))\n",
    "    ac_lr.append(get_lr_score(LinearRegression(), X_train, X_test, y_train, y_test))\n",
    "    ac_rf.append(get_model_predict(RandomForestClassifier(n_estimators = 100), X_train, X_test, y_train, y_test))\n",
    "\n",
    "print(ac_comNB)\n",
    "print(ac_svm)\n",
    "print(ac_lr)\n",
    "print(ac_rf)"
   ]
  },
  {
   "cell_type": "code",
   "execution_count": 17,
   "id": "faff76cb",
   "metadata": {
    "scrolled": true
   },
   "outputs": [
    {
     "name": "stderr",
     "output_type": "stream",
     "text": [
      "C:\\Users\\rambo\\AppData\\Local\\Programs\\Python\\Python39\\lib\\site-packages\\sklearn\\model_selection\\_split.py:676: UserWarning: The least populated class in y has only 1 members, which is less than n_splits=5.\n",
      "  warnings.warn(\n"
     ]
    },
    {
     "data": {
      "text/plain": [
       "array([0.52173913, 0.56521739, 0.45454545, 0.45454545, 0.5       ])"
      ]
     },
     "execution_count": 17,
     "metadata": {},
     "output_type": "execute_result"
    }
   ],
   "source": [
    "#Using cross_val_score\n",
    "from sklearn.model_selection import cross_val_score\n",
    "#complement Naive Bayes\n",
    "cross_val_score(ComplementNB(), X, y)"
   ]
  },
  {
   "cell_type": "code",
   "execution_count": 18,
   "id": "488e3544",
   "metadata": {},
   "outputs": [
    {
     "name": "stderr",
     "output_type": "stream",
     "text": [
      "C:\\Users\\rambo\\AppData\\Local\\Programs\\Python\\Python39\\lib\\site-packages\\sklearn\\model_selection\\_split.py:676: UserWarning: The least populated class in y has only 1 members, which is less than n_splits=5.\n",
      "  warnings.warn(\n"
     ]
    },
    {
     "data": {
      "text/plain": [
       "array([0.43478261, 0.43478261, 0.5       , 0.36363636, 0.31818182])"
      ]
     },
     "execution_count": 18,
     "metadata": {},
     "output_type": "execute_result"
    }
   ],
   "source": [
    "#SVM\n",
    "cross_val_score(svm.SVC(), X, y)"
   ]
  },
  {
   "cell_type": "code",
   "execution_count": 19,
   "id": "38cf095c",
   "metadata": {},
   "outputs": [
    {
     "data": {
      "text/plain": [
       "array([-0.4164384 , -0.08989301,  0.27353228,  0.32939313,  0.6731312 ])"
      ]
     },
     "execution_count": 19,
     "metadata": {},
     "output_type": "execute_result"
    }
   ],
   "source": [
    "#Linear Regression\n",
    "cross_val_score(LinearRegression(), X, y)"
   ]
  },
  {
   "cell_type": "code",
   "execution_count": 20,
   "id": "a60a733c",
   "metadata": {},
   "outputs": [
    {
     "name": "stderr",
     "output_type": "stream",
     "text": [
      "C:\\Users\\rambo\\AppData\\Local\\Programs\\Python\\Python39\\lib\\site-packages\\sklearn\\model_selection\\_split.py:676: UserWarning: The least populated class in y has only 1 members, which is less than n_splits=5.\n",
      "  warnings.warn(\n"
     ]
    },
    {
     "data": {
      "text/plain": [
       "array([0.65217391, 0.69565217, 0.81818182, 0.77272727, 0.63636364])"
      ]
     },
     "execution_count": 20,
     "metadata": {},
     "output_type": "execute_result"
    }
   ],
   "source": [
    "#Random Forest\n",
    "cross_val_score(RandomForestClassifier(), X, y)"
   ]
  },
  {
   "cell_type": "markdown",
   "id": "f0fa503d",
   "metadata": {},
   "source": [
    "# Confusion Matrix"
   ]
  },
  {
   "cell_type": "code",
   "execution_count": 21,
   "id": "c649773e",
   "metadata": {},
   "outputs": [
    {
     "name": "stderr",
     "output_type": "stream",
     "text": [
      "C:\\Users\\rambo\\AppData\\Local\\Programs\\Python\\Python39\\lib\\site-packages\\sklearn\\model_selection\\_split.py:676: UserWarning: The least populated class in y has only 1 members, which is less than n_splits=5.\n",
      "  warnings.warn(\n"
     ]
    }
   ],
   "source": [
    "ac_comNB2 = []\n",
    "ac_svm2 = []\n",
    "ac_rf2 = []\n",
    "\n",
    "def get_model_predict(model, X_train, X_test, y_train, y_test):\n",
    "    model.fit(X_train, y_train)\n",
    "    prediction = model.predict(X_test)\n",
    "    cm = confusion_matrix(y_test, prediction)\n",
    "    return cm\n",
    "\n",
    "for train_index, test_index in sKF.split(X, y):\n",
    "    X_train, y_train = X[train_index], y[train_index]\n",
    "    X_test, y_test = X[test_index], y[test_index]\n",
    "    \n",
    "    ac_comNB2.append(get_model_predict(ComplementNB(), X_train, X_test, y_train, y_test))\n",
    "    ac_svm2.append(get_model_predict(svm.SVC(), X_train, X_test, y_train, y_test))\n",
    "    ac_rf2.append(get_model_predict(RandomForestClassifier(n_estimators = 100), X_train, X_test, y_train, y_test))"
   ]
  },
  {
   "cell_type": "code",
   "execution_count": 22,
   "id": "6d97e383",
   "metadata": {
    "scrolled": false
   },
   "outputs": [
    {
     "data": {
      "image/png": "[encoded data removed]",
      "text/plain": [
       "<Figure size 432x288 with 2 Axes>"
      ]
     },
     "metadata": {
      "needs_background": "light"
     },
     "output_type": "display_data"
    }
   ],
   "source": [
    "#Complement NB Fold 1\n",
    "ax = sns.heatmap(ac_comNB2[0], annot = True)"
   ]
  },
  {
   "cell_type": "code",
   "execution_count": 23,
   "id": "c2da809e",
   "metadata": {},
   "outputs": [
    {
     "data": {
      "image/png": "[encoded data removed]",
      "text/plain": [
       "<Figure size 432x288 with 2 Axes>"
      ]
     },
     "metadata": {
      "needs_background": "light"
     },
     "output_type": "display_data"
    }
   ],
   "source": [
    "#Complement NB Fold 2\n",
    "ax = sns.heatmap(ac_comNB2[1], annot = True)"
   ]
  },
  {
   "cell_type": "code",
   "execution_count": 24,
   "id": "6895046b",
   "metadata": {},
   "outputs": [
    {
     "data": {
      "image/png": "[encoded data removed]",
      "text/plain": [
       "<Figure size 432x288 with 2 Axes>"
      ]
     },
     "metadata": {
      "needs_background": "light"
     },
     "output_type": "display_data"
    }
   ],
   "source": [
    "#Complement NB Fold 3\n",
    "ax = sns.heatmap(ac_comNB2[2], annot = True)"
   ]
  },
  {
   "cell_type": "code",
   "execution_count": 25,
   "id": "eb35e477",
   "metadata": {},
   "outputs": [
    {
     "data": {
      "image/png": "[encoded data removed]",
      "text/plain": [
       "<Figure size 432x288 with 2 Axes>"
      ]
     },
     "metadata": {
      "needs_background": "light"
     },
     "output_type": "display_data"
    }
   ],
   "source": [
    "#Complement NB Fold 4\n",
    "ax = sns.heatmap(ac_comNB2[3], annot = True)"
   ]
  },
  {
   "cell_type": "code",
   "execution_count": 26,
   "id": "99d9f9e8",
   "metadata": {},
   "outputs": [
    {
     "data": {
      "image/png": "[encoded data removed]",
      "text/plain": [
       "<Figure size 432x288 with 2 Axes>"
      ]
     },
     "metadata": {
      "needs_background": "light"
     },
     "output_type": "display_data"
    }
   ],
   "source": [
    "#Complement NB Fold 5\n",
    "ax = sns.heatmap(ac_comNB2[4], annot = True)"
   ]
  },
  {
   "cell_type": "code",
   "execution_count": 27,
   "id": "a5b3008c",
   "metadata": {},
   "outputs": [
    {
     "data": {
      "image/png": "[encoded data removed]",
      "text/plain": [
       "<Figure size 432x288 with 2 Axes>"
      ]
     },
     "metadata": {
      "needs_background": "light"
     },
     "output_type": "display_data"
    }
   ],
   "source": [
    "# SVM Fold 1\n",
    "ax = sns.heatmap(ac_svm2[0], annot = True)"
   ]
  },
  {
   "cell_type": "code",
   "execution_count": 28,
   "id": "673f9cba",
   "metadata": {},
   "outputs": [
    {
     "data": {
      "image/png": "[encoded data removed]",
      "text/plain": [
       "<Figure size 432x288 with 2 Axes>"
      ]
     },
     "metadata": {
      "needs_background": "light"
     },
     "output_type": "display_data"
    }
   ],
   "source": [
    "# SVM Fold 2\n",
    "ax = sns.heatmap(ac_svm2[1], annot = True)"
   ]
  },
  {
   "cell_type": "code",
   "execution_count": 29,
   "id": "0e685b01",
   "metadata": {},
   "outputs": [
    {
     "data": {
      "image/png": "[encoded data removed]",
      "text/plain": [
       "<Figure size 432x288 with 2 Axes>"
      ]
     },
     "metadata": {
      "needs_background": "light"
     },
     "output_type": "display_data"
    }
   ],
   "source": [
    "# SVM Fold 3\n",
    "ax = sns.heatmap(ac_svm2[2], annot = True)"
   ]
  },
  {
   "cell_type": "code",
   "execution_count": 30,
   "id": "d69f6a8b",
   "metadata": {},
   "outputs": [
    {
     "data": {
      "image/png": "[encoded data removed]",
      "text/plain": [
       "<Figure size 432x288 with 2 Axes>"
      ]
     },
     "metadata": {
      "needs_background": "light"
     },
     "output_type": "display_data"
    }
   ],
   "source": [
    "# SVM Fold 4\n",
    "ax = sns.heatmap(ac_svm2[3], annot = True)"
   ]
  },
  {
   "cell_type": "code",
   "execution_count": 31,
   "id": "af9645d6",
   "metadata": {},
   "outputs": [
    {
     "data": {
      "image/png": "[encoded data removed]",
      "text/plain": [
       "<Figure size 432x288 with 2 Axes>"
      ]
     },
     "metadata": {
      "needs_background": "light"
     },
     "output_type": "display_data"
    }
   ],
   "source": [
    "# SVM Fold 5\n",
    "ax = sns.heatmap(ac_svm2[4], annot = True)"
   ]
  },
  {
   "cell_type": "code",
   "execution_count": 32,
   "id": "d70f73fa",
   "metadata": {},
   "outputs": [
    {
     "data": {
      "image/png": "[encoded data removed]",
      "text/plain": [
       "<Figure size 432x288 with 2 Axes>"
      ]
     },
     "metadata": {
      "needs_background": "light"
     },
     "output_type": "display_data"
    }
   ],
   "source": [
    "# Random Forest Fold 1\n",
    "ax = sns.heatmap(ac_rf2[0], annot = True)"
   ]
  },
  {
   "cell_type": "code",
   "execution_count": 33,
   "id": "2c404a85",
   "metadata": {},
   "outputs": [
    {
     "data": {
      "image/png": "[encoded data removed]",
      "text/plain": [
       "<Figure size 432x288 with 2 Axes>"
      ]
     },
     "metadata": {
      "needs_background": "light"
     },
     "output_type": "display_data"
    }
   ],
   "source": [
    "# Random Forest Fold 2\n",
    "ax = sns.heatmap(ac_rf2[1], annot = True)"
   ]
  },
  {
   "cell_type": "code",
   "execution_count": 34,
   "id": "a02dd534",
   "metadata": {},
   "outputs": [
    {
     "data": {
      "image/png": "[encoded data removed]",
      "text/plain": [
       "<Figure size 432x288 with 2 Axes>"
      ]
     },
     "metadata": {
      "needs_background": "light"
     },
     "output_type": "display_data"
    }
   ],
   "source": [
    "# Random Forest Fold 3\n",
    "ax = sns.heatmap(ac_rf2[2], annot = True)"
   ]
  },
  {
   "cell_type": "code",
   "execution_count": 35,
   "id": "0587cf6c",
   "metadata": {},
   "outputs": [
    {
     "data": {
      "image/png": "[encoded data removed]",
      "text/plain": [
       "<Figure size 432x288 with 2 Axes>"
      ]
     },
     "metadata": {
      "needs_background": "light"
     },
     "output_type": "display_data"
    }
   ],
   "source": [
    "# Random Forest Fold 4\n",
    "ax = sns.heatmap(ac_rf2[3], annot = True)"
   ]
  },
  {
   "cell_type": "code",
   "execution_count": 36,
   "id": "445fd5f3",
   "metadata": {
    "scrolled": true
   },
   "outputs": [
    {
     "data": {
      "image/png": "[encoded data removed]",
      "text/plain": [
       "<Figure size 432x288 with 2 Axes>"
      ]
     },
     "metadata": {
      "needs_background": "light"
     },
     "output_type": "display_data"
    }
   ],
   "source": [
    "# Random Forest Fold 5\n",
    "ax = sns.heatmap(ac_rf2[4], annot = True)"
   ]
  },
  {
   "cell_type": "markdown",
   "id": "9c52a1e9",
   "metadata": {},
   "source": [
    "# Accuracy Score"
   ]
  },
  {
   "cell_type": "code",
   "execution_count": 37,
   "id": "1e260793",
   "metadata": {},
   "outputs": [],
   "source": [
    "ave_ac_comNB = sum(ac_comNB)/len(ac_comNB)\n",
    "ave_ac_svm = sum(ac_svm)/len(ac_svm)\n",
    "ave_ac_lr = sum(ac_lr)/len(ac_lr)\n",
    "ave_ac_rf = sum(ac_rf)/len(ac_rf)"
   ]
  },
  {
   "cell_type": "code",
   "execution_count": 38,
   "id": "a6954903",
   "metadata": {},
   "outputs": [
    {
     "data": {
      "text/plain": [
       "0.4992094861660079"
      ]
     },
     "execution_count": 38,
     "metadata": {},
     "output_type": "execute_result"
    }
   ],
   "source": [
    "# Complement NB Average Accuracy\n",
    "ave_ac_comNB"
   ]
  },
  {
   "cell_type": "code",
   "execution_count": 39,
   "id": "ab744c59",
   "metadata": {},
   "outputs": [
    {
     "data": {
      "text/plain": [
       "0.41027667984189725"
      ]
     },
     "execution_count": 39,
     "metadata": {},
     "output_type": "execute_result"
    }
   ],
   "source": [
    "# SVM Average Average Accuracy\n",
    "ave_ac_svm"
   ]
  },
  {
   "cell_type": "code",
   "execution_count": 40,
   "id": "4e16a75c",
   "metadata": {},
   "outputs": [
    {
     "data": {
      "text/plain": [
       "0.2887525066956847"
      ]
     },
     "execution_count": 40,
     "metadata": {},
     "output_type": "execute_result"
    }
   ],
   "source": [
    "# Linear Regression Average Accuracy\n",
    "ave_ac_lr"
   ]
  },
  {
   "cell_type": "markdown",
   "id": "ce576fcb",
   "metadata": {},
   "source": [
    "# Cross Validation Score"
   ]
  },
  {
   "cell_type": "code",
   "execution_count": 41,
   "id": "b488514a",
   "metadata": {},
   "outputs": [
    {
     "name": "stderr",
     "output_type": "stream",
     "text": [
      "C:\\Users\\rambo\\AppData\\Local\\Programs\\Python\\Python39\\lib\\site-packages\\sklearn\\model_selection\\_split.py:676: UserWarning: The least populated class in y has only 1 members, which is less than n_splits=5.\n",
      "  warnings.warn(\n",
      "C:\\Users\\rambo\\AppData\\Local\\Programs\\Python\\Python39\\lib\\site-packages\\sklearn\\model_selection\\_split.py:676: UserWarning: The least populated class in y has only 1 members, which is less than n_splits=5.\n",
      "  warnings.warn(\n",
      "C:\\Users\\rambo\\AppData\\Local\\Programs\\Python\\Python39\\lib\\site-packages\\sklearn\\model_selection\\_split.py:676: UserWarning: The least populated class in y has only 1 members, which is less than n_splits=5.\n",
      "  warnings.warn(\n"
     ]
    }
   ],
   "source": [
    "cross_val_comNB =  cross_val_score(ComplementNB(), X, y)\n",
    "cross_val_svm = cross_val_score(svm.SVC(), X, y)\n",
    "cross_val_lr = cross_val_score(LinearRegression(), X, y)\n",
    "cross_val_rf = cross_val_score(RandomForestClassifier(), X, y)"
   ]
  },
  {
   "cell_type": "code",
   "execution_count": 42,
   "id": "f69ebcb1",
   "metadata": {},
   "outputs": [],
   "source": [
    "cross_val_comNB = sum(cross_val_comNB)/len(cross_val_comNB)\n",
    "cross_val_svm = sum(cross_val_svm)/len(cross_val_svm)\n",
    "cross_val_lr = sum(cross_val_lr)/len(cross_val_lr)\n",
    "cross_val_rf = sum(cross_val_rf)/len(cross_val_rf)"
   ]
  },
  {
   "cell_type": "code",
   "execution_count": 43,
   "id": "eb18bc75",
   "metadata": {},
   "outputs": [
    {
     "data": {
      "text/plain": [
       "0.4992094861660079"
      ]
     },
     "execution_count": 43,
     "metadata": {},
     "output_type": "execute_result"
    }
   ],
   "source": [
    "#Average Cross Validation Score for ComplementNB\n",
    "cross_val_comNB"
   ]
  },
  {
   "cell_type": "code",
   "execution_count": 44,
   "id": "b362ff65",
   "metadata": {},
   "outputs": [
    {
     "data": {
      "text/plain": [
       "0.41027667984189725"
      ]
     },
     "execution_count": 44,
     "metadata": {},
     "output_type": "execute_result"
    }
   ],
   "source": [
    "#Average Cross Validation Score for SVM\n",
    "cross_val_svm"
   ]
  },
  {
   "cell_type": "code",
   "execution_count": 45,
   "id": "ca3313fc",
   "metadata": {},
   "outputs": [
    {
     "data": {
      "text/plain": [
       "0.15394503941375667"
      ]
     },
     "execution_count": 45,
     "metadata": {},
     "output_type": "execute_result"
    }
   ],
   "source": [
    "#Average Cross Validation Score for Linear Regression\n",
    "cross_val_lr"
   ]
  },
  {
   "cell_type": "code",
   "execution_count": 46,
   "id": "8b137a55",
   "metadata": {},
   "outputs": [
    {
     "data": {
      "text/plain": [
       "0.733201581027668"
      ]
     },
     "execution_count": 46,
     "metadata": {},
     "output_type": "execute_result"
    }
   ],
   "source": [
    "#Average Cross Validation Score for Linear Regression\n",
    "cross_val_rf"
   ]
  }
 ],
 "metadata": {
  "kernelspec": {
   "display_name": "Python 3 (ipykernel)",
   "language": "python",
   "name": "python3"
  },
  "language_info": {
   "codemirror_mode": {
    "name": "ipython",
    "version": 3
   },
   "file_extension": ".py",
   "mimetype": "text/x-python",
   "name": "python",
   "nbconvert_exporter": "python",
   "pygments_lexer": "ipython3",
   "version": "3.9.6"
  }
 },
 "nbformat": 4,
 "nbformat_minor": 5
}
